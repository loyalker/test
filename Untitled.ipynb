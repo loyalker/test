{
 "cells": [
  {
   "cell_type": "code",
   "execution_count": 2,
   "id": "11786ddc-dcbb-407a-8b64-de5675681a64",
   "metadata": {},
   "outputs": [
    {
     "name": "stdout",
     "output_type": "stream",
     "text": [
      "PyTorch Version: 2.4.1+cu121\n",
      "CUDA Available: True\n",
      "Number of GPUs available: 4\n",
      "GPU 0: NVIDIA RTX A6000\n",
      "Tensor successfully created on GPU 0: \n",
      "tensor([[0.7734, 0.3721, 0.1900],\n",
      "        [0.4020, 0.9161, 0.6332],\n",
      "        [0.2415, 0.4019, 0.0087]], device='cuda:0')\n",
      "GPU 1: NVIDIA RTX A6000\n",
      "Tensor successfully created on GPU 1: \n",
      "tensor([[0.5891, 0.6491, 0.3568],\n",
      "        [0.2813, 0.0650, 0.1961],\n",
      "        [0.5807, 0.9709, 0.7314]], device='cuda:1')\n",
      "GPU 2: NVIDIA RTX A6000\n",
      "Tensor successfully created on GPU 2: \n",
      "tensor([[0.6477, 0.7134, 0.8150],\n",
      "        [0.3644, 0.0078, 0.2932],\n",
      "        [0.7058, 0.4125, 0.2684]], device='cuda:2')\n",
      "GPU 3: NVIDIA RTX A6000\n",
      "Tensor successfully created on GPU 3: \n",
      "tensor([[0.7198, 0.8995, 0.2668],\n",
      "        [0.6432, 0.9252, 0.9069],\n",
      "        [0.7888, 0.4341, 0.0897]], device='cuda:3')\n"
     ]
    }
   ],
   "source": [
    "import torch\n",
    "\n",
    "def check_multiple_gpus():\n",
    "    # 检查PyTorch是否安装以及版本信息\n",
    "    print(f\"PyTorch Version: {torch.__version__}\")\n",
    "\n",
    "    # 检查是否安装了CUDA\n",
    "    cuda_available = torch.cuda.is_available()\n",
    "    print(f\"CUDA Available: {cuda_available}\")\n",
    "\n",
    "    if cuda_available:\n",
    "        # 获取可用GPU的数量\n",
    "        gpu_count = torch.cuda.device_count()\n",
    "        print(f\"Number of GPUs available: {gpu_count}\")\n",
    "\n",
    "        # 循环遍历每一张GPU\n",
    "        for i in range(gpu_count):\n",
    "            print(f\"GPU {i}: {torch.cuda.get_device_name(i)}\")\n",
    "            \n",
    "            # 测试在该GPU上创建张量\n",
    "            try:\n",
    "                with torch.cuda.device(i):\n",
    "                    x = torch.rand(3, 3).cuda(i)\n",
    "                    print(f\"Tensor successfully created on GPU {i}: \\n{x}\")\n",
    "            except Exception as e:\n",
    "                print(f\"Error when creating tensor on GPU {i}: {e}\")\n",
    "    else:\n",
    "        print(\"CUDA is not available, make sure it is installed correctly.\")\n",
    "\n",
    "if __name__ == \"__main__\":\n",
    "    check_multiple_gpus()\n"
   ]
  },
  {
   "cell_type": "code",
   "execution_count": null,
   "id": "4fec2d0d-8f58-4f09-b911-e965a5c34458",
   "metadata": {},
   "outputs": [],
   "source": []
  }
 ],
 "metadata": {
  "kernelspec": {
   "display_name": "Python 3 (ipykernel)",
   "language": "python",
   "name": "python3"
  },
  "language_info": {
   "codemirror_mode": {
    "name": "ipython",
    "version": 3
   },
   "file_extension": ".py",
   "mimetype": "text/x-python",
   "name": "python",
   "nbconvert_exporter": "python",
   "pygments_lexer": "ipython3",
   "version": "3.10.12"
  }
 },
 "nbformat": 4,
 "nbformat_minor": 5
}
